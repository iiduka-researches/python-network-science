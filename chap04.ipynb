{
 "cells": [
  {
   "cell_type": "markdown",
   "metadata": {},
   "source": [
    "# Python を使ってネットワーク科学の問題を解決しよう\n",
    "Chapter 4. 自由課題\n",
    "\n",
    "----\n",
    "\n",
    "明治大学理工学部情報科学科  \n",
    "飯塚 秀明"
   ]
  },
  {
   "cell_type": "markdown",
   "metadata": {},
   "source": [
    "# 演習前に\n",
    "この演習を行う前に、下記の注ぎ口を一度実行してください。 演習に必要な各種機能が自動的に導入されます。"
   ]
  },
  {
   "cell_type": "code",
   "execution_count": null,
   "metadata": {},
   "outputs": [],
   "source": [
    "!pip install git+https://github.com/kazh98/ybook.git"
   ]
  },
  {
   "cell_type": "markdown",
   "metadata": {},
   "source": [
    "## 自由課題\n",
    "**【課題】各自で取り組んでみたいネットワークを設計し、その最適な割当を、勉強した方法(KKT条件、最適化ソルバーなど) を用いて求めてみましょう。**"
   ]
  },
  {
   "cell_type": "code",
   "execution_count": null,
   "metadata": {},
   "outputs": [],
   "source": [
    "%matplotlib inline\n",
    "import numpy as np\n",
    "from ybook import draw\n",
    "from scipy.optimize import minimize, Bounds\n",
    "init_printing()\n",
    "\n",
    "x0, x1, x2, l0, l1 = symbols(\"x_0 x_1 x_2 l_0 l_1\", nonnegative=True)\n",
    "\n",
    "c = np.array([2, 3])\n",
    "x = minimize(\n",
    "    lambda x: -log(x[0]) - np.log(x[1]) - np.log(x[2]),\n",
    "    np.ones(3),\n",
    "    bounds=Bounds(0, np.inf),\n",
    "    constraints=[\n",
    "        {'type': 'ineq', 'fun': lambda x: 2 - x[0] - x[2]},\n",
    "        {'type': 'ineq', 'fun': lambda x: 3 - x[1] - x[2]},\n",
    "    ]).x\n",
    "\n",
    "draw(c, [(0, 1), (1, 2), (0, 2)], x)"
   ]
  }
 ],
 "metadata": {
  "kernelspec": {
   "display_name": "Python 3",
   "language": "python",
   "name": "python3"
  },
  "language_info": {
   "codemirror_mode": {
    "name": "ipython",
    "version": 3
   },
   "file_extension": ".py",
   "mimetype": "text/x-python",
   "name": "python",
   "nbconvert_exporter": "python",
   "pygments_lexer": "ipython3",
   "version": "3.6.8"
  }
 },
 "nbformat": 4,
 "nbformat_minor": 2
}
