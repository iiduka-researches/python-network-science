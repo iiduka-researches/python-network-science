{
 "cells": [
  {
   "cell_type": "markdown",
   "metadata": {},
   "source": [
    "# Python を使ってネットワーク科学の問題を解決しよう\n",
    "Chapter 1. 最適化問題とPython プログラミングの初歩\n",
    "\n",
    "----\n",
    "\n",
    "明治大学理工学部情報科学科  \n",
    "飯塚 秀明"
   ]
  },
  {
   "cell_type": "markdown",
   "metadata": {},
   "source": [
    "## ベクトル (ndarray)\n",
    "Python でベクトル(数の並び) を表すには、`np.array` 関数を用います。\n",
    "\n",
    "例えば、3 要素のベクトル\n",
    "\\begin{align}\n",
    "  \\begin{pmatrix}1\\\\ 2\\\\ 3\\end{pmatrix}\n",
    "\\end{align}\n",
    "を表現するには、\n",
    "```python\n",
    "import numpy as np\n",
    "np.array([1, 2, 3])\n",
    "```\n",
    "とします。\n",
    "\n",
    "ここで、`import numpy as np` という文は、「ベクトルなどを表現するための機能NumPy を`np` という名前で読み込んでください」という意味で、`np.array` 関数などを使用する前に**あらかじめ１回**実行しておく必要があります。\n",
    "次の行、`np.array([1, 2, 3])` が、実際にベクトルを生成する命令です。\n",
    "それぞれの注ぎ口の実行結果は最後の行を計算した値が表示されるので、この場合は、\n",
    "```python\n",
    "array([1, 2, 3])\n",
    "```\n",
    "と表示されれば成功です。\n",
    "少し変な表記に思われるかもしれませんが、これが先のベクトルを表すPython 上での表現になります。\n",
    "\n",
    "**【課題】下の注ぎ口に、3要素のベクトル$(1, 2, 3)^\\top$ を生成するPython プログラムを書いて実行してみましょう。**"
   ]
  },
  {
   "cell_type": "code",
   "execution_count": null,
   "metadata": {},
   "outputs": [],
   "source": []
  },
  {
   "cell_type": "markdown",
   "metadata": {},
   "source": [
    "## ベクトルの足し算、引き算、スカラー(実数) 倍\n",
    "同じ要素数のベクトル同士は、足したり引いたりすることができます。\n",
    "その場合、下記のように成分同士の足し算、引き算となります。\n",
    "\\begin{align}\n",
    "\\begin{pmatrix}a\\\\ b\\end{pmatrix}+\\begin{pmatrix}c\\\\ d\\end{pmatrix}\n",
    ":=\\begin{pmatrix}a+c\\\\ b+d\\end{pmatrix},\\quad\n",
    "\\begin{pmatrix}a\\\\ b\\end{pmatrix}-\\begin{pmatrix}c\\\\ d\\end{pmatrix}\n",
    ":=\\begin{pmatrix}a-c\\\\ b-d\\end{pmatrix}.\n",
    "\\end{align}\n",
    "足し算や引き算は、普通の数学表記と同様に`+` や`-` 記号を用いて記述できます。\n",
    "例えば、２要素のベクトル$(5, 3)^\\top$ と$(1, 2)^\\top$ の足し算は、\n",
    "```python\n",
    "import numpy as np\n",
    "x = np.array([5, 3])\n",
    "y = np.array([1, 2])\n",
    "x + y\n",
    "```\n",
    "と記述でき、その実行結果は、\n",
    "```python\n",
    "array([6, 5])\n",
    "```\n",
    "となります。\n",
    "\n",
    "ベクトルはスカラー(実数) 倍することもでき、その場合、下記のように各要素に実数を乗ずることになります。\n",
    "\\begin{align}\n",
    "c\\begin{pmatrix}a\\\\ b\\end{pmatrix}:=\\begin{pmatrix}ca\\\\ cb\\end{pmatrix}\n",
    "\\end{align}\n",
    "ベクトルの実数倍には、`*` 記号を用います。\n",
    "例えば、２要素のベクトル$(5, 3)^\\top$ を2 倍するには下記のように記述します。\n",
    "```python\n",
    "import numpy as np\n",
    "x = np.array([5, 3])\n",
    "2 * x\n",
    "```\n",
    "\n",
    "**【課題】下の３つの注ぎ口で、ベクトルの足し算、引き算、スカラー(実数) 倍の計算を確認してみましょう。**"
   ]
  },
  {
   "cell_type": "code",
   "execution_count": null,
   "metadata": {},
   "outputs": [],
   "source": []
  },
  {
   "cell_type": "code",
   "execution_count": null,
   "metadata": {},
   "outputs": [],
   "source": []
  },
  {
   "cell_type": "code",
   "execution_count": null,
   "metadata": {},
   "outputs": [],
   "source": []
  },
  {
   "cell_type": "markdown",
   "metadata": {},
   "source": [
    "## ベクトルの各成分\n",
    "ベクトル`v` の各成分の値は、`v[番号]` で取得・設定できます。\n",
    "ここで、`番号` は0 から始まることに注意してください。\n",
    "\n",
    "**【課題】下の２つの注ぎ口にあるプログラムについて、それぞれ実行結果を予想してみましょう。予想できたら実行して、予想と実際が同じかどうかを確認してください。**"
   ]
  },
  {
   "cell_type": "code",
   "execution_count": null,
   "metadata": {},
   "outputs": [],
   "source": [
    "import numpy as np\n",
    "x = np.array([1, 2, 3])\n",
    "\n",
    "x[0]"
   ]
  },
  {
   "cell_type": "code",
   "execution_count": null,
   "metadata": {},
   "outputs": [],
   "source": [
    "import numpy as np\n",
    "x = np.array([1, 2, 3])\n",
    "x[0] = 0\n",
    "\n",
    "x"
   ]
  },
  {
   "cell_type": "markdown",
   "metadata": {},
   "source": [
    "## ベクトル同士の内積\n",
    "同じ要素数のベクトル同士の内積、\n",
    "\\begin{align}\n",
    "\\left\\langle \\begin{pmatrix}a\\\\ b\\end{pmatrix}, \\begin{pmatrix}c\\\\ d\\end{pmatrix} \\right\\rangle\n",
    ":= ac + bd\n",
    "\\end{align}\n",
    "は、`np.inner` 関数により計算できます。\n",
    "\n",
    "**【課題】下の注ぎ口にあるプログラムについて、実行結果を予想してみましょう。予想できたら実行して、予想と実際が同じかどうかを確認してください。**"
   ]
  },
  {
   "cell_type": "code",
   "execution_count": null,
   "metadata": {},
   "outputs": [],
   "source": [
    "import numpy as np\n",
    "x = np.array([5, 3])\n",
    "y = np.array([1, 2])\n",
    "\n",
    "np.inner(x, y)"
   ]
  },
  {
   "cell_type": "markdown",
   "metadata": {},
   "source": [
    "## 行列\n",
    "行列(数の２次元的な並び) も、ベクトル同様に`np.array` 関数を用いて生成できます。\n",
    "次の行列、\n",
    "\\begin{align}\n",
    "  \\begin{pmatrix}\n",
    "    1 & 2 \\\\\n",
    "    3 & 4 \\\\\n",
    "  \\end{pmatrix}\n",
    "\\end{align}\n",
    "は、次の注ぎ口にあるプログラムのように記述します。"
   ]
  },
  {
   "cell_type": "code",
   "execution_count": null,
   "metadata": {},
   "outputs": [],
   "source": [
    "import numpy as np\n",
    "\n",
    "np.array([[1, 2], [3, 4]])"
   ]
  },
  {
   "cell_type": "markdown",
   "metadata": {},
   "source": [
    "## 行列の各成分\n",
    "行列`A` の各成分の値は、`A[行番号, 列番号]` で取得・設定できます。\n",
    "ベクトルの各成分のときと同様に、`行番号`や`列番号` は0 から始まることに注意してください。\n",
    "\n",
    "**【課題】下の２つの注ぎ口にあるプログラムについて、それぞれ実行結果を予想してみましょう。予想できたら実行して、予想と実際が同じかどうかを確認してください。**"
   ]
  },
  {
   "cell_type": "code",
   "execution_count": null,
   "metadata": {},
   "outputs": [],
   "source": [
    "import numpy as np\n",
    "A = np.array([[1, 2], [3, 4]])\n",
    "\n",
    "A[0, 0]"
   ]
  },
  {
   "cell_type": "code",
   "execution_count": null,
   "metadata": {},
   "outputs": [],
   "source": [
    "import numpy as np\n",
    "A = np.array([[1, 2], [3, 4]])\n",
    "A[0, 0] = 5\n",
    "\n",
    "A"
   ]
  },
  {
   "cell_type": "markdown",
   "metadata": {},
   "source": [
    "## 行列とベクトルの積\n",
    "行列とベクトルの積、\n",
    "\\begin{align}\n",
    "  \\begin{pmatrix}a & b\\\\ c & d\\end{pmatrix}\\begin{pmatrix}e\\\\ f\\end{pmatrix}\n",
    "  := \\begin{pmatrix}ae + bf\\\\ ce + df\\end{pmatrix}\n",
    "\\end{align}\n",
    "は、`np.dot` 関数を用いて計算します。\n",
    "\n",
    "**【課題】下の注ぎ口を実行して、計算結果を確認してみましょう。**"
   ]
  },
  {
   "cell_type": "code",
   "execution_count": null,
   "metadata": {},
   "outputs": [],
   "source": [
    "import numpy as np\n",
    "A = np.array([[1, 2], [3, 4]])\n",
    "x = np.array([5, 6])\n",
    "\n",
    "np.dot(A, x)"
   ]
  },
  {
   "cell_type": "markdown",
   "metadata": {},
   "source": [
    "## 連立一次方程式\n",
    "連立一次方程式\n",
    "\\begin{align}\n",
    "  \\begin{cases}\n",
    "    ax + by = c \\\\\n",
    "    dx + ey = f\n",
    "  \\end{cases}\n",
    "\\end{align}\n",
    "は、行列とベクトルを用いて、\n",
    "\\begin{align}\n",
    "  \\begin{pmatrix}\n",
    "    a & b \\\\\n",
    "    d & e\n",
    "  \\end{pmatrix}\n",
    "  \\begin{pmatrix}x\\\\ y\\end{pmatrix}\n",
    "  =\\begin{pmatrix}c\\\\ f\\end{pmatrix}\n",
    "\\end{align}\n",
    "とも書けます。\n",
    "\n",
    "この行列$\\begin{pmatrix}a & b\\\\ d & e\\end{pmatrix}$ とベクトル$\\begin{pmatrix}c\\\\ f\\end{pmatrix}$ を与えて、解$\\begin{pmatrix}x\\\\ y\\end{pmatrix}$ を求めるには、`np.linalg.solve` 関数を用います。\n",
    "\n",
    "**【課題】下の注ぎ口のプログラムを穴埋めして、はじめの問題を解いてみましょう。**\n",
    "\n",
    "| 食品＼含まれているもの | ビタミン (mg) | ミネラル (mg) |\n",
    "| ---- | ---- | ---- |\n",
    "| A | 0.10 | 4.5 |\n",
    "| B | 0.15 | 3.0 |\n",
    "\n",
    "条件: ビタミンは合わせて3mg 以上、ミネラルは合わせて90mg 以上とる。合計量はなるべく少なくしたい。"
   ]
  },
  {
   "cell_type": "code",
   "execution_count": null,
   "metadata": {},
   "outputs": [],
   "source": [
    "import numpy as np\n",
    "A = np.array([[?, ?], [?, ?]])\n",
    "x = np.array([?, ?])\n",
    "\n",
    "np.linalg.solve(A, x)"
   ]
  }
 ],
 "metadata": {
  "kernelspec": {
   "display_name": "Python 3",
   "language": "python",
   "name": "python3"
  },
  "language_info": {
   "codemirror_mode": {
    "name": "ipython",
    "version": 3
   },
   "file_extension": ".py",
   "mimetype": "text/x-python",
   "name": "python",
   "nbconvert_exporter": "python",
   "pygments_lexer": "ipython3",
   "version": "3.6.8"
  }
 },
 "nbformat": 4,
 "nbformat_minor": 2
}
