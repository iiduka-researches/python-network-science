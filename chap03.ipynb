{
 "cells": [
  {
   "cell_type": "markdown",
   "metadata": {},
   "source": [
    "# Python を使ってネットワーク科学の問題を解決しよう\n",
    "Chapter 3. 通信シミュレーション\n",
    "\n",
    "----\n",
    "\n",
    "明治大学理工学部情報科学科  \n",
    "飯塚 秀明"
   ]
  },
  {
   "cell_type": "markdown",
   "metadata": {},
   "source": [
    "## 演習前に\n",
    "この演習を行う前に、下記の注ぎ口を一度実行してください。\n",
    "演習に必要な各種機能が自動的に導入されます。"
   ]
  },
  {
   "cell_type": "code",
   "execution_count": null,
   "metadata": {},
   "outputs": [],
   "source": [
    "!pip install git+https://github.com/kazh98/ybook.git"
   ]
  },
  {
   "cell_type": "markdown",
   "metadata": {},
   "source": [
    "## 可視化ツールdraw\n",
    "**【課題】まずは、下記の注ぎ口を実行してみましょう。**"
   ]
  },
  {
   "cell_type": "code",
   "execution_count": null,
   "metadata": {},
   "outputs": [],
   "source": [
    "%matplotlib inline\n",
    "import numpy as np\n",
    "from ybook import draw\n",
    "\n",
    "draw(np.array([2, 3]), [(0, 1), (1, 2), (0, 2)], np.array([0, 1, 2]))"
   ]
  },
  {
   "cell_type": "markdown",
   "metadata": {},
   "source": [
    "実行に成功すると、``LINK STATUS`` と``FLOW STATUS`` という２つのデータ、加えて１つの図が出てくると思います。\n",
    "これらは、ネットワークのある状態を表しています。\n",
    "\n",
    "`draw` 命令をひとつずつ紐解いていきましょう。\n",
    "  * 図の青い丸は**ノード**(地点)、ノードを結ぶ黒い線分は**リンク**(通信線)、そしてその上下にある矢印はリンクを流れる**通信**を表します。\n",
    "  * 第１引数`np.array([2, 3])` は、**リンクの許容容量** を左から順に指定しています。この場合、左からリンク$c_0$ は2、リンク$c_1$ は3 の許容容量をもつことを意味しています。\n",
    "  * 第２引数`[(0, 1), (1, 2), (0, 2)]` は、各ノードを左から順に番号付けたとしての**通信の端点** を指定しています。最初の通信`(0, 1)` は、通信$x_0$ がノード0(左のノード) からノード1(中央のノード) へ流れることを、２番目の通信`(1, 2)` は、通信$x_1$ がノード1(中央のノード) からノード2(右のノード) へ流れることを、最後の通信`(0, 2)` は、通信$x_2$ がノード0(左のノード) からノード2(右のノード) へ流れることを意味しています。\n",
    "  * 第３引数`np.array([0, 1, 2])` は、**通信の使用帯域幅** を表しています。この場合、通信$x_0$ は帯域幅0 (通信なし)、通信$x_1$ は帯域幅1、通信$x_0$ は帯域幅2 をそれぞれ使用していることを意味します。\n",
    "  * 通信の使用帯域幅については**FLOW STATUS**、リンクの許容容量とリンクの使用帯域幅については**LINK STATUS** の出力を見ても確認することができます。\n",
    "\n",
    "リンクを表す線分は、もし何も通信が流れていないときには灰色、何か通信が流れているときには黒色、流れている通信がリンクの許容容量を超える場合には赤色で表示されます。\n",
    "\n",
    "**【課題】変数`x` の値を変更して、リンクが灰色、黒色、赤色となる場合をそれぞれ確認してみましょう。**"
   ]
  },
  {
   "cell_type": "code",
   "execution_count": null,
   "metadata": {},
   "outputs": [],
   "source": [
    "%matplotlib inline\n",
    "import numpy as np\n",
    "from ybook import draw\n",
    "\n",
    "c = np.array([2])\n",
    "x = np.array([0, 0])\n",
    "\n",
    "\n",
    "draw(c, [(0, 1), (0, 1)], x)"
   ]
  },
  {
   "cell_type": "markdown",
   "metadata": {},
   "source": [
    "## KKT条件を用いた3変数の問題の解法\n",
    "前回勉強したKKT 条件を用いて、３変数の問題を解決しましょう。\n",
    "ここでは、同じく前回取り扱った次のプログラムで構築されるネットワークを考えます。\n",
    "\n",
    "**【課題】下記の注ぎ口を実行してみましょう。**"
   ]
  },
  {
   "cell_type": "code",
   "execution_count": null,
   "metadata": {},
   "outputs": [],
   "source": [
    "%matplotlib inline\n",
    "import numpy as np\n",
    "from ybook import draw\n",
    "\n",
    "c = np.array([2, 3])\n",
    "x = np.array([0, 0, 0])\n",
    "\n",
    "\n",
    "draw(c, [(0, 1), (1, 2), (0, 2)], x)"
   ]
  },
  {
   "cell_type": "markdown",
   "metadata": {},
   "source": [
    "このネットワークの転送レート最適化を、KKT条件を用いて解くことを考えましょう。\n",
    "\n",
    "**【課題】下記の注ぎ口を編集し、ラグランジュ関数$L$ とそれから求められるKKT条件に基づく連立方程式を解くプログラムを完成させ、実行してみましょう。**"
   ]
  },
  {
   "cell_type": "code",
   "execution_count": null,
   "metadata": {},
   "outputs": [],
   "source": [
    "%matplotlib inline\n",
    "import numpy as np\n",
    "from ybook import draw\n",
    "from sympy import *\n",
    "init_printing()\n",
    "\n",
    "x0, x1, x2, l0, l1 = symbols(\"x_0 x_1 x_2 l_0 l_1\", nonnegative=True)\n",
    "\n",
    "c = np.array([2, 3])\n",
    "L = ???\n",
    "result = solve([\n",
    "    ???\n",
    "])[0]\n",
    "x = np.array([result[x0], result[x1], result[x2]])\n",
    "\n",
    "draw(c, [(0, 1), (1, 2), (0, 2)], x)"
   ]
  },
  {
   "cell_type": "markdown",
   "metadata": {},
   "source": [
    "## 最適化ソルバーによる解法\n",
    "いままでは、KKT条件を用いて、\n",
    "\n",
    "  * 最適化問題 -> 連立方程式\n",
    " \n",
    "という変換を行い、転送レート最適化問題を解きました。\n",
    "\n",
    "**最適化ソルバー** を用いると、最適化問題を直接与えて問題を解くことができます。"
   ]
  },
  {
   "cell_type": "markdown",
   "metadata": {},
   "source": [
    "## 最適化ソルバーの使用例\n",
    "ここでは、次の最適化問題、\n",
    "\\begin{align}\n",
    "\\text{求む: }\n",
    "& \\log x_0 + \\log x_1 + \\log x_2 \\rightarrow \\text{最大}, \\\\\n",
    "\\text{制約: }\n",
    "& x_0 + x_2 \\le 2, \\\\\n",
    "& x_1 + x_2 \\le 3, \\\\\n",
    "& 0 \\le x_0, x_1, x_2.\n",
    "\\end{align}\n",
    "を例に、最適化ソルバーを用いた解法を確認しましょう。\n",
    "ソルバーに入力するため、まず次のように最適化問題を変形します。\n",
    "\\begin{align}\n",
    "\\text{求む: }\n",
    "& -\\log x_0 - \\log x_1 - \\log x_2 \\rightarrow \\text{最小}, \\\\\n",
    "\\text{制約: }\n",
    "& 0 \\le 2 - x_0 - x_2, \\\\\n",
    "& 0 \\le 3 - x_1 - x_2, \\\\\n",
    "& 0 \\le x_0, x_1, x_2.\n",
    "\\end{align}\n",
    "ポイントは、\n",
    "\n",
    "  * 目的関数は、**最小化** することを考える。\n",
    "  * 制約は、**0以上の形** に統一する。\n",
    "  \n",
    "です。\n",
    "この形に変形できたら、最適化ソルバー``scipy.optimize.minimize`` を使うことができます。\n",
    "使い方は下記の通りです。\n",
    "```python\n",
    "import numpy as np\n",
    "from scipy.optimize import Bounds, minimize\n",
    "\n",
    "minimize(\n",
    "    lambda x: [最小化したい目的関数],\n",
    "    [初期点],\n",
    "    bounds=Bounds([最小値], [最大値]),\n",
    "    constraints=[\n",
    "        {'type': 'ineq', 'fun': lambda x: [制約式]},\n",
    "        ...\n",
    "    ]).x\n",
    "```\n",
    "目的関数はそのまま指定すればよく、制約については右辺の式を`[制約式]` に記述します。\n",
    "変数の取りうる値に上下限がある場合(ここでは非負制約なので下限0ですね)、`[最小値]`、`[最大値]`にこれを指定できます。\n",
    "初期点は最適化をする上で重要なパラメータですが、ここでは`np.ones([次元数])` を指定すればよいでしょう。\n",
    "\n",
    "**【課題】先の最適化問題を、最適化ソルバーを用いて解いてみましょう。**"
   ]
  },
  {
   "cell_type": "code",
   "execution_count": null,
   "metadata": {},
   "outputs": [],
   "source": [
    "import numpy as np\n",
    "from scipy.optimize import Bounds, minimize\n",
    "\n",
    "minimize(\n",
    "    lambda x: ???,\n",
    "    np.ones(3),\n",
    "    bounds=Bounds(???, np.inf),\n",
    "    constraints=[\n",
    "        {'type': 'ineq', 'fun': lambda x: ???},\n",
    "        {'type': 'ineq', 'fun': lambda x: ???},\n",
    "    ]).x"
   ]
  },
  {
   "cell_type": "markdown",
   "metadata": {},
   "source": [
    "## 演習\n",
    "**【課題】最適化ソルバーと`draw` 関数を用いて、先の問題を解き、結果を表示しましょう。**"
   ]
  },
  {
   "cell_type": "code",
   "execution_count": null,
   "metadata": {},
   "outputs": [],
   "source": []
  },
  {
   "cell_type": "markdown",
   "metadata": {},
   "source": [
    "**【課題】目的関数の各係数を調整して、\u000b",
    "より公平な割当を実現してみよう。**"
   ]
  },
  {
   "cell_type": "code",
   "execution_count": null,
   "metadata": {},
   "outputs": [],
   "source": []
  },
  {
   "cell_type": "markdown",
   "metadata": {},
   "source": [
    "**【課題】リンクの許容容量を変更したときの、割当の変化を調べてみましょう。**"
   ]
  },
  {
   "cell_type": "code",
   "execution_count": null,
   "metadata": {},
   "outputs": [],
   "source": []
  },
  {
   "cell_type": "markdown",
   "metadata": {},
   "source": [
    "**【課題】ノードが5つあるネットワーク上での帯域幅割当に挑戦してみましょう。**"
   ]
  },
  {
   "cell_type": "code",
   "execution_count": null,
   "metadata": {},
   "outputs": [],
   "source": []
  }
 ],
 "metadata": {
  "kernelspec": {
   "display_name": "Python 3",
   "language": "python",
   "name": "python3"
  },
  "language_info": {
   "codemirror_mode": {
    "name": "ipython",
    "version": 3
   },
   "file_extension": ".py",
   "mimetype": "text/x-python",
   "name": "python",
   "nbconvert_exporter": "python",
   "pygments_lexer": "ipython3",
   "version": "3.6.8"
  }
 },
 "nbformat": 4,
 "nbformat_minor": 2
}
