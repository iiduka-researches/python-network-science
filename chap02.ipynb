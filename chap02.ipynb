{
 "cells": [
  {
   "cell_type": "markdown",
   "metadata": {},
   "source": [
    "# Python を使ってネットワーク科学の問題を解決しよう\n",
    "Chapter 2. Python での数式処理\n",
    "\n",
    "----\n",
    "\n",
    "明治大学理工学部情報科学科  \n",
    "飯塚 秀明"
   ]
  },
  {
   "cell_type": "markdown",
   "metadata": {},
   "source": [
    "## SymPy の導入\n",
    "Python で数式処理(数式の表現やその式変形、微分積分など) を行うには、SymPy を用います。\n",
    "SymPy を使用するには、まず冒頭で\n",
    "```python\n",
    "from sympy import *\n",
    "init_printing()\n",
    "```\n",
    "とすることで、必要な機能の読み込みと初期化を行います。\n",
    "二行目の`init_printing()` は、以降で行う計算の結果として得られた数式を見やすく表示させるために必要です。\n",
    "Python 上で処理の対象とする変数は、`symbols()` 関数を用いて生成します。\n",
    "例えば、変数$x$, $y$, $z$ を用いて数式処理を行う場合、最低限書かなければならないプログラム(スケルトンコード、などとも呼びます) は下記のようになります。\n",
    "（スケルトンコードなので、実行しても何も出てこないのが正常です。）\n",
    "\n",
    "**【課題】下の注ぎ口を実行して、スケルトンコードが問題なく動作することを確かめてみましょう。**  \n",
    "**【課題】下の注ぎ口の最後の行に、変数$x$, $y$, $z$ を用いた多項式を記述し、SymPy での数式構築をしてみましょう。**"
   ]
  },
  {
   "cell_type": "code",
   "execution_count": null,
   "metadata": {},
   "outputs": [],
   "source": [
    "from sympy import *\n",
    "init_printing()\n",
    "x, y, z = symbols(\"x y z\")"
   ]
  },
  {
   "cell_type": "markdown",
   "metadata": {},
   "source": [
    "## SymPy を用いた微分\n",
    "SymPy を用いて構築した数式を微分するには、\n",
    "```python\n",
    "[数式].diff([文字])\n",
    "```\n",
    "と記述します。\n",
    "\n",
    "**【課題】下の注ぎ口を実行して、先のラグランジュ関数$L$ を微分してみましょう。**  \n",
    "**【課題】下の注ぎ口の最後の行を編集して、$x_0$ 以外の変数についても微分できるかを確認してみましょう。**"
   ]
  },
  {
   "cell_type": "code",
   "execution_count": null,
   "metadata": {},
   "outputs": [],
   "source": [
    "from sympy import *\n",
    "init_printing()\n",
    "x0, x1, x2, l0, l1 = symbols(\"x_0 x_1 x_2 l_0 l_1\")\n",
    "\n",
    "C0, C1 = 2, 3\n",
    "L = -(log(x0) + log(x1) + log(x2)) + l0 * (x0 + x2 - C0) + l1 * (x1 + x2 - C1)\n",
    "\n",
    "L.diff(x0)"
   ]
  },
  {
   "cell_type": "markdown",
   "metadata": {},
   "source": [
    "## 連立方程式を解く\n",
    "連立方程式\n",
    "\\begin{align}\n",
    "  \\begin{cases}\n",
    "    \\text{[式1]} = 0 \\\\\n",
    "    \\text{[式2]} = 0 \\\\\n",
    "    \\quad\\vdots \\\\\n",
    "    \\text{[式$n$]} = 0 \\\\\n",
    "  \\end{cases}\n",
    "\\end{align}\n",
    "の解を求めるには、\n",
    "```python\n",
    "solve([\n",
    "    [式1],\n",
    "    [式2],\n",
    "    ...,\n",
    "    [式n]\n",
    "])\n",
    "```\n",
    "と記述します。\n",
    "\n",
    "**【課題】下の注ぎ口を適切に編集して、前回の連立方程式を解いてみましょう。**\n",
    "\\begin{align}\n",
    "  \\begin{cases}\n",
    "    3x + 2y = 60 \\\\\n",
    "    2x + 3y = 60\n",
    "  \\end{cases}\n",
    "\\end{align}"
   ]
  },
  {
   "cell_type": "code",
   "execution_count": null,
   "metadata": {},
   "outputs": [],
   "source": [
    "from sympy import *\n",
    "init_printing()\n",
    "x, y = symbols(\"x y\")\n",
    "\n",
    "solve([\n",
    "    ???\n",
    "])"
   ]
  },
  {
   "cell_type": "markdown",
   "metadata": {},
   "source": [
    "## 演習\n",
    "**【課題】きょう勉強したことを用いて、ラグランジュ関数$L$をSymPy を使って微分し、KKT 条件に基づく連立不等式を解いてみよう。**\n",
    "\\begin{align}\n",
    "  L(x_0, x_1, x_2, \\lambda_0, \\lambda_1):=-(\\log x_0 + \\log x_1 + \\log x_2) + \\lambda_0(x_0+x_2-c_0) + \\lambda_1(x_1+x_2-c_1)\n",
    "\\end{align}\n",
    "\n",
    "※非負の変数を表現するときには、`symbols` 関数の第２引数に`nonnegative=True` オプションを与えます。すなわち、\n",
    "```python\n",
    "x, y, z = symbols(\"x y z\", nonnegative=True)\n",
    "```\n",
    "のようにします。"
   ]
  },
  {
   "cell_type": "code",
   "execution_count": null,
   "metadata": {},
   "outputs": [],
   "source": []
  }
 ],
 "metadata": {
  "kernelspec": {
   "display_name": "Python 3",
   "language": "python",
   "name": "python3"
  },
  "language_info": {
   "codemirror_mode": {
    "name": "ipython",
    "version": 3
   },
   "file_extension": ".py",
   "mimetype": "text/x-python",
   "name": "python",
   "nbconvert_exporter": "python",
   "pygments_lexer": "ipython3",
   "version": "3.6.8"
  }
 },
 "nbformat": 4,
 "nbformat_minor": 2
}
